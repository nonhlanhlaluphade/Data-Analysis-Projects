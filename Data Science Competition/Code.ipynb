{
 "cells": [
  {
   "cell_type": "markdown",
   "id": "2f7206d5-5724-49ff-a5cc-fe25b2cd62e5",
   "metadata": {},
   "source": [
    "# Data Science Competition - Predicting Probability of Default \n",
    "\n",
    "## Problem Statement \n",
    "Financial institutions face significant risks due to loan defaults. Accurately predicting the \n",
    "probability of default (PD) on loans is critical for risk management and strategic planning. In this\r\n",
    "competition, participants are tasked with developing a predictive model that estimates th \r\n",
    "probability of default on loans using historical loan data."
   ]
  },
  {
   "cell_type": "markdown",
   "id": "e077a858-56f6-4cd1-927d-b328c1d7c2e8",
   "metadata": {},
   "source": [
    "### 1. Data Cleaning \n",
    "In this section we will be loading the data to get a summary view of what the data looks like, type of columns, etc"
   ]
  },
  {
   "cell_type": "code",
   "execution_count": 9,
   "id": "bfae1e97-9f3d-4b44-b2be-4b302ac37279",
   "metadata": {},
   "outputs": [],
   "source": [
    "#Import libraries\n",
    "import pandas as pd\n",
    "import numpy as np\n",
    "import matplotlib.pyplot as plt\n",
    "import sklearn \n",
    "import seaborn as sns"
   ]
  },
  {
   "cell_type": "code",
   "execution_count": 39,
   "id": "58547351-3237-43e0-b03b-584707dc4ea8",
   "metadata": {},
   "outputs": [],
   "source": [
    "#load the data \n",
    "main_data = pd.read_csv('data_science_competition_2024.csv')\n",
    "main_data.head()\n",
    "main_data = main_data.drop('Unnamed: 0',axis = 1) "
   ]
  },
  {
   "cell_type": "code",
   "execution_count": 40,
   "id": "44e31009-304b-48a0-92c2-d3d9649c5200",
   "metadata": {},
   "outputs": [
    {
     "name": "stdout",
     "output_type": "stream",
     "text": [
      "<class 'pandas.core.frame.DataFrame'>\n",
      "RangeIndex: 100000 entries, 0 to 99999\n",
      "Data columns (total 20 columns):\n",
      " #   Column                Non-Null Count   Dtype  \n",
      "---  ------                --------------   -----  \n",
      " 0   loan_id               100000 non-null  object \n",
      " 1   gender                100000 non-null  object \n",
      " 2   disbursemet_date      100000 non-null  object \n",
      " 3   currency              100000 non-null  object \n",
      " 4   country               99900 non-null   object \n",
      " 5   sex                   100000 non-null  object \n",
      " 6   is_employed           100000 non-null  bool   \n",
      " 7   job                   95864 non-null   object \n",
      " 8   location              99405 non-null   object \n",
      " 9   loan_amount           100000 non-null  float64\n",
      " 10  number_of_defaults    100000 non-null  int64  \n",
      " 11  outstanding_balance   100000 non-null  float64\n",
      " 12  interest_rate         100000 non-null  float64\n",
      " 13  age                   100000 non-null  int64  \n",
      " 14  number_of_defaults.1  100000 non-null  int64  \n",
      " 15  remaining term        100000 non-null  object \n",
      " 16  salary                100000 non-null  float64\n",
      " 17  marital_status        100000 non-null  object \n",
      " 18  age.1                 100000 non-null  int64  \n",
      " 19  Loan Status           100000 non-null  object \n",
      "dtypes: bool(1), float64(4), int64(4), object(11)\n",
      "memory usage: 14.6+ MB\n",
      "None\n"
     ]
    }
   ],
   "source": [
    "#Display information about the dataset\n",
    "print(main_data.info())"
   ]
  },
  {
   "cell_type": "code",
   "execution_count": 42,
   "id": "a76bf680-a727-4b83-928c-195b9cddad65",
   "metadata": {},
   "outputs": [],
   "source": [
    "#Check if (age1 and age) and (number_of_defaults and number_of_defaults1) are just duplicated columns\n",
    "if (main_data[main_data[\"age\"] != main_data[\"age.1\"]].shape[0] == 0):\n",
    "   main_data = main_data.drop('age.1',axis = 1) "
   ]
  },
  {
   "cell_type": "code",
   "execution_count": 43,
   "id": "6a8ea750-2184-47b2-8720-a9b86f6be9b2",
   "metadata": {},
   "outputs": [],
   "source": [
    "if (main_data[main_data[\"number_of_defaults\"] != main_data[\"number_of_defaults.1\"]].shape[0] == 0):\n",
    "   main_data = main_data.drop('number_of_defaults.1',axis = 1) \n"
   ]
  },
  {
   "cell_type": "code",
   "execution_count": 44,
   "id": "26aab4f3-2cfd-4e6b-b002-94c0992438a7",
   "metadata": {},
   "outputs": [
    {
     "data": {
      "text/html": [
       "<div>\n",
       "<style scoped>\n",
       "    .dataframe tbody tr th:only-of-type {\n",
       "        vertical-align: middle;\n",
       "    }\n",
       "\n",
       "    .dataframe tbody tr th {\n",
       "        vertical-align: top;\n",
       "    }\n",
       "\n",
       "    .dataframe thead th {\n",
       "        text-align: right;\n",
       "    }\n",
       "</style>\n",
       "<table border=\"1\" class=\"dataframe\">\n",
       "  <thead>\n",
       "    <tr style=\"text-align: right;\">\n",
       "      <th></th>\n",
       "      <th>loan_amount</th>\n",
       "      <th>number_of_defaults</th>\n",
       "      <th>outstanding_balance</th>\n",
       "      <th>interest_rate</th>\n",
       "      <th>age</th>\n",
       "      <th>salary</th>\n",
       "    </tr>\n",
       "  </thead>\n",
       "  <tbody>\n",
       "    <tr>\n",
       "      <th>count</th>\n",
       "      <td>100000.000000</td>\n",
       "      <td>100000.000000</td>\n",
       "      <td>100000.000000</td>\n",
       "      <td>100000.000000</td>\n",
       "      <td>100000.00000</td>\n",
       "      <td>100000.000000</td>\n",
       "    </tr>\n",
       "    <tr>\n",
       "      <th>mean</th>\n",
       "      <td>31120.000000</td>\n",
       "      <td>0.441970</td>\n",
       "      <td>36964.909763</td>\n",
       "      <td>0.210435</td>\n",
       "      <td>43.57069</td>\n",
       "      <td>2781.804324</td>\n",
       "    </tr>\n",
       "    <tr>\n",
       "      <th>std</th>\n",
       "      <td>15895.093631</td>\n",
       "      <td>0.688286</td>\n",
       "      <td>10014.758477</td>\n",
       "      <td>0.018725</td>\n",
       "      <td>4.86376</td>\n",
       "      <td>696.450055</td>\n",
       "    </tr>\n",
       "    <tr>\n",
       "      <th>min</th>\n",
       "      <td>1000.000000</td>\n",
       "      <td>0.000000</td>\n",
       "      <td>0.000000</td>\n",
       "      <td>0.100000</td>\n",
       "      <td>21.00000</td>\n",
       "      <td>250.000000</td>\n",
       "    </tr>\n",
       "    <tr>\n",
       "      <th>25%</th>\n",
       "      <td>21000.000000</td>\n",
       "      <td>0.000000</td>\n",
       "      <td>29625.227472</td>\n",
       "      <td>0.200000</td>\n",
       "      <td>40.00000</td>\n",
       "      <td>2273.929349</td>\n",
       "    </tr>\n",
       "    <tr>\n",
       "      <th>50%</th>\n",
       "      <td>31000.000000</td>\n",
       "      <td>0.000000</td>\n",
       "      <td>35063.852394</td>\n",
       "      <td>0.210000</td>\n",
       "      <td>44.00000</td>\n",
       "      <td>2665.441567</td>\n",
       "    </tr>\n",
       "    <tr>\n",
       "      <th>75%</th>\n",
       "      <td>40000.000000</td>\n",
       "      <td>1.000000</td>\n",
       "      <td>42133.388817</td>\n",
       "      <td>0.220000</td>\n",
       "      <td>47.00000</td>\n",
       "      <td>3146.577655</td>\n",
       "    </tr>\n",
       "    <tr>\n",
       "      <th>max</th>\n",
       "      <td>273000.000000</td>\n",
       "      <td>2.000000</td>\n",
       "      <td>150960.000000</td>\n",
       "      <td>0.300000</td>\n",
       "      <td>65.00000</td>\n",
       "      <td>10000.000000</td>\n",
       "    </tr>\n",
       "  </tbody>\n",
       "</table>\n",
       "</div>"
      ],
      "text/plain": [
       "         loan_amount  number_of_defaults  outstanding_balance  interest_rate  \\\n",
       "count  100000.000000       100000.000000        100000.000000  100000.000000   \n",
       "mean    31120.000000            0.441970         36964.909763       0.210435   \n",
       "std     15895.093631            0.688286         10014.758477       0.018725   \n",
       "min      1000.000000            0.000000             0.000000       0.100000   \n",
       "25%     21000.000000            0.000000         29625.227472       0.200000   \n",
       "50%     31000.000000            0.000000         35063.852394       0.210000   \n",
       "75%     40000.000000            1.000000         42133.388817       0.220000   \n",
       "max    273000.000000            2.000000        150960.000000       0.300000   \n",
       "\n",
       "                age         salary  \n",
       "count  100000.00000  100000.000000  \n",
       "mean       43.57069    2781.804324  \n",
       "std         4.86376     696.450055  \n",
       "min        21.00000     250.000000  \n",
       "25%        40.00000    2273.929349  \n",
       "50%        44.00000    2665.441567  \n",
       "75%        47.00000    3146.577655  \n",
       "max        65.00000   10000.000000  "
      ]
     },
     "execution_count": 44,
     "metadata": {},
     "output_type": "execute_result"
    }
   ],
   "source": [
    "main_data.describe()"
   ]
  },
  {
   "cell_type": "code",
   "execution_count": 45,
   "id": "bbded495-973a-48ac-a50c-e436febbef02",
   "metadata": {},
   "outputs": [
    {
     "data": {
      "text/plain": [
       "loan_id                   0\n",
       "gender                    0\n",
       "disbursemet_date          0\n",
       "currency                  0\n",
       "country                 100\n",
       "sex                       0\n",
       "is_employed               0\n",
       "job                    4136\n",
       "location                595\n",
       "loan_amount               0\n",
       "number_of_defaults        0\n",
       "outstanding_balance       0\n",
       "interest_rate             0\n",
       "age                       0\n",
       "remaining term            0\n",
       "salary                    0\n",
       "marital_status            0\n",
       "Loan Status               0\n",
       "dtype: int64"
      ]
     },
     "execution_count": 45,
     "metadata": {},
     "output_type": "execute_result"
    }
   ],
   "source": [
    "#Check for null values \n",
    "null = main_data.isnull().sum()\n",
    "null"
   ]
  },
  {
   "cell_type": "code",
   "execution_count": 22,
   "id": "8b426b06-58a3-47d9-b30a-afef8dcd8542",
   "metadata": {},
   "outputs": [
    {
     "data": {
      "text/html": [
       "<div>\n",
       "<style scoped>\n",
       "    .dataframe tbody tr th:only-of-type {\n",
       "        vertical-align: middle;\n",
       "    }\n",
       "\n",
       "    .dataframe tbody tr th {\n",
       "        vertical-align: top;\n",
       "    }\n",
       "\n",
       "    .dataframe thead th {\n",
       "        text-align: right;\n",
       "    }\n",
       "</style>\n",
       "<table border=\"1\" class=\"dataframe\">\n",
       "  <thead>\n",
       "    <tr style=\"text-align: right;\">\n",
       "      <th></th>\n",
       "      <th>Unnamed: 0</th>\n",
       "      <th>loan_id</th>\n",
       "      <th>gender</th>\n",
       "      <th>disbursemet_date</th>\n",
       "      <th>currency</th>\n",
       "      <th>country</th>\n",
       "      <th>sex</th>\n",
       "      <th>is_employed</th>\n",
       "      <th>job</th>\n",
       "      <th>location</th>\n",
       "      <th>...</th>\n",
       "      <th>number_of_defaults</th>\n",
       "      <th>outstanding_balance</th>\n",
       "      <th>interest_rate</th>\n",
       "      <th>age</th>\n",
       "      <th>number_of_defaults.1</th>\n",
       "      <th>remaining term</th>\n",
       "      <th>salary</th>\n",
       "      <th>marital_status</th>\n",
       "      <th>age.1</th>\n",
       "      <th>Loan Status</th>\n",
       "    </tr>\n",
       "  </thead>\n",
       "  <tbody>\n",
       "  </tbody>\n",
       "</table>\n",
       "<p>0 rows × 21 columns</p>\n",
       "</div>"
      ],
      "text/plain": [
       "Empty DataFrame\n",
       "Columns: [Unnamed: 0, loan_id, gender, disbursemet_date, currency, country, sex, is_employed, job, location, loan_amount, number_of_defaults, outstanding_balance, interest_rate, age, number_of_defaults.1, remaining term, salary, marital_status, age.1, Loan Status]\n",
       "Index: []\n",
       "\n",
       "[0 rows x 21 columns]"
      ]
     },
     "execution_count": 22,
     "metadata": {},
     "output_type": "execute_result"
    }
   ],
   "source": [
    "#Check for duplicate values \n",
    "duplicate = main_data[main_data.duplicated()]\n",
    "main_data[main_data.duplicated(subset = ['loan_id']) == True]"
   ]
  },
  {
   "cell_type": "code",
   "execution_count": null,
   "id": "bc0a93fd-2e21-4aa3-b2e0-ef88184aa71c",
   "metadata": {},
   "outputs": [],
   "source": [
    "#Access the load_id column to understand if its unique or what\n",
    "\n"
   ]
  }
 ],
 "metadata": {
  "kernelspec": {
   "display_name": "Python 3 (ipykernel)",
   "language": "python",
   "name": "python3"
  },
  "language_info": {
   "codemirror_mode": {
    "name": "ipython",
    "version": 3
   },
   "file_extension": ".py",
   "mimetype": "text/x-python",
   "name": "python",
   "nbconvert_exporter": "python",
   "pygments_lexer": "ipython3",
   "version": "3.11.7"
  }
 },
 "nbformat": 4,
 "nbformat_minor": 5
}
